{
 "cells": [
  {
   "cell_type": "markdown",
   "metadata": {},
   "source": [
    "# Import pyspark library and other essential classes and functions."
   ]
  },
  {
   "cell_type": "code",
   "execution_count": 1,
   "metadata": {},
   "outputs": [],
   "source": [
    "import findspark\n",
    "findspark.init('/home/ubuntu/spark-2.1.1-bin-hadoop2.7')\n",
    "import pyspark\n",
    "from pyspark.sql import SparkSession\n",
    "from pyspark.sql.functions import monotonically_increasing_id\n",
    "%matplotlib inline\n",
    "import matplotlib.pyplot as plt"
   ]
  },
  {
   "cell_type": "code",
   "execution_count": 2,
   "metadata": {},
   "outputs": [],
   "source": [
    "plt.style.use('seaborn')"
   ]
  },
  {
   "cell_type": "markdown",
   "metadata": {},
   "source": [
    "### Initiate a SparkSession"
   ]
  },
  {
   "cell_type": "code",
   "execution_count": 3,
   "metadata": {},
   "outputs": [],
   "source": [
    "spark = SparkSession.builder.appName(\"Congress\").getOrCreate()"
   ]
  },
  {
   "cell_type": "markdown",
   "metadata": {},
   "source": [
    "I observed the data format of file before loading it to spark.\n",
    "#### Load CSV data into Spark dataframe"
   ]
  },
  {
   "cell_type": "code",
   "execution_count": 4,
   "metadata": {},
   "outputs": [],
   "source": [
    "votes_read = spark.read.csv('./house-votes-84.data')"
   ]
  },
  {
   "cell_type": "markdown",
   "metadata": {},
   "source": [
    "#### Inspect loaded data\n",
    "<pre>\n",
    "_c0. Class Name: 2 (democrat, republican)\n",
    "_c1. handicapped-infants: 2 (y,n)\n",
    "_c2. water-project-cost-sharing: 2 (y,n)\n",
    "_c3. adoption-of-the-budget-resolution: 2 (y,n)\n",
    "_c4. physician-fee-freeze: 2 (y,n)\n",
    "_c5. el-salvador-aid: 2 (y,n)\n",
    "_c6. religious-groups-in-schools: 2 (y,n)\n",
    "_c7. anti-satellite-test-ban: 2 (y,n)\n",
    "_c8. aid-to-nicaraguan-contras: 2 (y,n)\n",
    "_c9. mx-missile: 2 (y,n)\n",
    "_c10. immigration: 2 (y,n)\n",
    "_c11. synfuels-corporation-cutback: 2 (y,n)\n",
    "_c12. education-spending: 2 (y,n)\n",
    "_c13. superfund-right-to-sue: 2 (y,n)\n",
    "_c14. crime: 2 (y,n)\n",
    "_c15. duty-free-exports: 2 (y,n)\n",
    "_c16. export-administration-act-south-africa: 2 (y,n)\n",
    "</pre>"
   ]
  },
  {
   "cell_type": "code",
   "execution_count": 5,
   "metadata": {},
   "outputs": [
    {
     "name": "stdout",
     "output_type": "stream",
     "text": [
      "+----------+---+---+---+---+---+---+---+---+---+----+----+----+----+----+----+----+\n",
      "|       _c0|_c1|_c2|_c3|_c4|_c5|_c6|_c7|_c8|_c9|_c10|_c11|_c12|_c13|_c14|_c15|_c16|\n",
      "+----------+---+---+---+---+---+---+---+---+---+----+----+----+----+----+----+----+\n",
      "|republican|  n|  y|  n|  y|  y|  y|  n|  n|  n|   y|   ?|   y|   y|   y|   n|   y|\n",
      "|republican|  n|  y|  n|  y|  y|  y|  n|  n|  n|   n|   n|   y|   y|   y|   n|   ?|\n",
      "|  democrat|  ?|  y|  y|  ?|  y|  y|  n|  n|  n|   n|   y|   n|   y|   y|   n|   n|\n",
      "|  democrat|  n|  y|  y|  n|  ?|  y|  n|  n|  n|   n|   y|   n|   y|   n|   n|   y|\n",
      "|  democrat|  y|  y|  y|  n|  y|  y|  n|  n|  n|   n|   y|   ?|   y|   y|   y|   y|\n",
      "|  democrat|  n|  y|  y|  n|  y|  y|  n|  n|  n|   n|   n|   n|   y|   y|   y|   y|\n",
      "|  democrat|  n|  y|  n|  y|  y|  y|  n|  n|  n|   n|   n|   n|   ?|   y|   y|   y|\n",
      "|republican|  n|  y|  n|  y|  y|  y|  n|  n|  n|   n|   n|   n|   y|   y|   ?|   y|\n",
      "|republican|  n|  y|  n|  y|  y|  y|  n|  n|  n|   n|   n|   y|   y|   y|   n|   y|\n",
      "|  democrat|  y|  y|  y|  n|  n|  n|  y|  y|  y|   n|   n|   n|   n|   n|   ?|   ?|\n",
      "|republican|  n|  y|  n|  y|  y|  n|  n|  n|  n|   n|   ?|   ?|   y|   y|   n|   n|\n",
      "|republican|  n|  y|  n|  y|  y|  y|  n|  n|  n|   n|   y|   ?|   y|   y|   ?|   ?|\n",
      "|  democrat|  n|  y|  y|  n|  n|  n|  y|  y|  y|   n|   n|   n|   y|   n|   ?|   ?|\n",
      "|  democrat|  y|  y|  y|  n|  n|  y|  y|  y|  ?|   y|   y|   ?|   n|   n|   y|   ?|\n",
      "|republican|  n|  y|  n|  y|  y|  y|  n|  n|  n|   n|   n|   y|   ?|   ?|   n|   ?|\n",
      "|republican|  n|  y|  n|  y|  y|  y|  n|  n|  n|   y|   n|   y|   y|   ?|   n|   ?|\n",
      "|  democrat|  y|  n|  y|  n|  n|  y|  n|  y|  ?|   y|   y|   y|   ?|   n|   n|   y|\n",
      "|  democrat|  y|  ?|  y|  n|  n|  n|  y|  y|  y|   n|   n|   n|   y|   n|   y|   y|\n",
      "|republican|  n|  y|  n|  y|  y|  y|  n|  n|  n|   n|   n|   ?|   y|   y|   n|   n|\n",
      "|  democrat|  y|  y|  y|  n|  n|  n|  y|  y|  y|   n|   y|   n|   n|   n|   y|   y|\n",
      "+----------+---+---+---+---+---+---+---+---+---+----+----+----+----+----+----+----+\n",
      "only showing top 20 rows\n",
      "\n"
     ]
    }
   ],
   "source": [
    "votes_read.show()"
   ]
  },
  {
   "cell_type": "markdown",
   "metadata": {},
   "source": [
    "The records do not have an unique attribute or key which can be used to identify each record while evaluating results, to tackle this issue I'll add a column to dataframe with increasing value\n",
    "\n",
    "#### Add an unique index column to the dataframe"
   ]
  },
  {
   "cell_type": "code",
   "execution_count": 6,
   "metadata": {},
   "outputs": [],
   "source": [
    "votes = votes_read.withColumn(\"id\", monotonically_increasing_id())"
   ]
  },
  {
   "cell_type": "markdown",
   "metadata": {},
   "source": [
    "#### See how many records the dataframe contain"
   ]
  },
  {
   "cell_type": "code",
   "execution_count": 7,
   "metadata": {},
   "outputs": [
    {
     "data": {
      "text/plain": [
       "435"
      ]
     },
     "execution_count": 7,
     "metadata": {},
     "output_type": "execute_result"
    }
   ],
   "source": [
    "votes.count()"
   ]
  },
  {
   "cell_type": "markdown",
   "metadata": {},
   "source": [
    "#### Inspecting undetermined votes"
   ]
  },
  {
   "cell_type": "code",
   "execution_count": 8,
   "metadata": {},
   "outputs": [
    {
     "name": "stdout",
     "output_type": "stream",
     "text": [
      "+----------+---+---+---+---+---+---+---+---+---+----+----+----+----+----+----+----+---+\n",
      "|       _c0|_c1|_c2|_c3|_c4|_c5|_c6|_c7|_c8|_c9|_c10|_c11|_c12|_c13|_c14|_c15|_c16| id|\n",
      "+----------+---+---+---+---+---+---+---+---+---+----+----+----+----+----+----+----+---+\n",
      "|  democrat|  ?|  y|  y|  ?|  y|  y|  n|  n|  n|   n|   y|   n|   y|   y|   n|   n|  2|\n",
      "|  democrat|  ?|  ?|  ?|  ?|  n|  y|  y|  y|  y|   y|   ?|   n|   y|   y|   n|   ?|104|\n",
      "|  democrat|  ?|  ?|  y|  n|  n|  n|  y|  y|  ?|   n|   ?|   ?|   ?|   ?|   ?|   ?|129|\n",
      "|  democrat|  ?|  y|  n|  n|  n|  n|  y|  y|  y|   y|   y|   n|   n|   y|   y|   y|143|\n",
      "|  democrat|  ?|  n|  y|  n|  n|  n|  y|  y|  y|   y|   y|   ?|   n|   n|   y|   ?|178|\n",
      "|  democrat|  ?|  ?|  y|  n|  n|  n|  y|  y|  y|   ?|   ?|   n|   n|   n|   ?|   ?|180|\n",
      "|  democrat|  ?|  ?|  ?|  ?|  ?|  ?|  ?|  ?|  y|   ?|   ?|   ?|   ?|   ?|   ?|   ?|183|\n",
      "|republican|  ?|  ?|  ?|  ?|  ?|  ?|  ?|  ?|  ?|   ?|   ?|   ?|   ?|   ?|   ?|   ?|248|\n",
      "|  democrat|  ?|  ?|  n|  n|  ?|  y|  ?|  n|  n|   n|   y|   y|   n|   y|   n|   ?|390|\n",
      "|republican|  ?|  ?|  ?|  ?|  n|  y|  n|  y|  y|   n|   n|   y|   y|   n|   n|   ?|393|\n",
      "|republican|  ?|  n|  y|  y|  n|  y|  y|  y|  y|   y|   n|   y|   n|   y|   n|   y|402|\n",
      "|  democrat|  ?|  ?|  ?|  n|  n|  n|  y|  y|  y|   y|   n|   n|   y|   n|   y|   y|428|\n",
      "+----------+---+---+---+---+---+---+---+---+---+----+----+----+----+----+----+----+---+\n",
      "\n"
     ]
    }
   ],
   "source": [
    "votes.filter(votes['_c1']=='?').show()"
   ]
  },
  {
   "cell_type": "markdown",
   "metadata": {},
   "source": [
    "### Dealing with undetermined votes"
   ]
  },
  {
   "cell_type": "markdown",
   "metadata": {},
   "source": [
    "**There are multiple ways undetermined values can be handled.**<br/><br/>\n",
    "The method I prefer to handle '?' values is to replace these string values by null, and drop them using Spark SQL method to drop a record if it has a null value. I'm using simple map reduce functions to achieve this, because of its flexibility and code reusability."
   ]
  },
  {
   "cell_type": "markdown",
   "metadata": {},
   "source": [
    "**Import required functions -**<br/><br/>\n",
    "*col* function allows to access column by its name.<br/>\n",
    "*when* function allows to conditionally return a column object.<br/>\n",
    "*reduce* is a reduce function from Python's standard library.<br/>"
   ]
  },
  {
   "cell_type": "code",
   "execution_count": 9,
   "metadata": {},
   "outputs": [],
   "source": [
    "from pyspark.sql.functions import col, when\n",
    "from functools import reduce"
   ]
  },
  {
   "cell_type": "markdown",
   "metadata": {},
   "source": [
    "Define a function which takes column as argument, it returns a value for observation if it does not equal to '?'. Otherwise it will return Python None type, which will be interpreted as null in Spark dataframe."
   ]
  },
  {
   "cell_type": "code",
   "execution_count": 10,
   "metadata": {},
   "outputs": [],
   "source": [
    "def replacewNull(i):\n",
    "    return when(col(i) != '?', col(i)).otherwise(None)"
   ]
  },
  {
   "cell_type": "markdown",
   "metadata": {},
   "source": [
    "Here withColumn works as a mapper function which maps repalcewNull function to each column (we exclude the last column we added using list slicing) in the dataframe. We collect all modified columns using reduce function and store them into vote_null as a new dataframe"
   ]
  },
  {
   "cell_type": "code",
   "execution_count": 11,
   "metadata": {},
   "outputs": [],
   "source": [
    "vote_null = reduce(lambda df, x: df.withColumn(x, replacewNull(x)), votes.columns[0:-1], votes)"
   ]
  },
  {
   "cell_type": "markdown",
   "metadata": {},
   "source": [
    "Inspect if the values are replaced by null, we can refer to the unique ids we added to observations earlier."
   ]
  },
  {
   "cell_type": "code",
   "execution_count": 12,
   "metadata": {},
   "outputs": [
    {
     "name": "stdout",
     "output_type": "stream",
     "text": [
      "+----------+----+----+----+----+----+----+----+----+----+----+----+----+----+----+----+----+---+\n",
      "|       _c0| _c1| _c2| _c3| _c4| _c5| _c6| _c7| _c8| _c9|_c10|_c11|_c12|_c13|_c14|_c15|_c16| id|\n",
      "+----------+----+----+----+----+----+----+----+----+----+----+----+----+----+----+----+----+---+\n",
      "|  democrat|null|   y|   y|null|   y|   y|   n|   n|   n|   n|   y|   n|   y|   y|   n|   n|  2|\n",
      "|  democrat|null|null|null|null|   n|   y|   y|   y|   y|   y|null|   n|   y|   y|   n|null|104|\n",
      "|  democrat|null|null|   y|   n|   n|   n|   y|   y|null|   n|null|null|null|null|null|null|129|\n",
      "|  democrat|null|   y|   n|   n|   n|   n|   y|   y|   y|   y|   y|   n|   n|   y|   y|   y|143|\n",
      "|  democrat|null|   n|   y|   n|   n|   n|   y|   y|   y|   y|   y|null|   n|   n|   y|null|178|\n",
      "|  democrat|null|null|   y|   n|   n|   n|   y|   y|   y|null|null|   n|   n|   n|null|null|180|\n",
      "|  democrat|null|null|null|null|null|null|null|null|   y|null|null|null|null|null|null|null|183|\n",
      "|republican|null|null|null|null|null|null|null|null|null|null|null|null|null|null|null|null|248|\n",
      "|  democrat|null|null|   n|   n|null|   y|null|   n|   n|   n|   y|   y|   n|   y|   n|null|390|\n",
      "|republican|null|null|null|null|   n|   y|   n|   y|   y|   n|   n|   y|   y|   n|   n|null|393|\n",
      "|republican|null|   n|   y|   y|   n|   y|   y|   y|   y|   y|   n|   y|   n|   y|   n|   y|402|\n",
      "|  democrat|null|null|null|   n|   n|   n|   y|   y|   y|   y|   n|   n|   y|   n|   y|   y|428|\n",
      "+----------+----+----+----+----+----+----+----+----+----+----+----+----+----+----+----+----+---+\n",
      "\n"
     ]
    }
   ],
   "source": [
    "vote_null.filter(votes['_c1']=='?').show()"
   ]
  },
  {
   "cell_type": "markdown",
   "metadata": {},
   "source": [
    "#### Drop the entire observation / record if any column has a null value"
   ]
  },
  {
   "cell_type": "code",
   "execution_count": 13,
   "metadata": {},
   "outputs": [],
   "source": [
    "votes_cleaned = vote_null.na.drop(how='any')"
   ]
  },
  {
   "cell_type": "markdown",
   "metadata": {},
   "source": [
    "#### Inspect the cleaned data"
   ]
  },
  {
   "cell_type": "code",
   "execution_count": 14,
   "metadata": {},
   "outputs": [
    {
     "name": "stdout",
     "output_type": "stream",
     "text": [
      "+----------+---+---+---+---+---+---+---+---+---+----+----+----+----+----+----+----+---+\n",
      "|       _c0|_c1|_c2|_c3|_c4|_c5|_c6|_c7|_c8|_c9|_c10|_c11|_c12|_c13|_c14|_c15|_c16| id|\n",
      "+----------+---+---+---+---+---+---+---+---+---+----+----+----+----+----+----+----+---+\n",
      "|  democrat|  n|  y|  y|  n|  y|  y|  n|  n|  n|   n|   n|   n|   y|   y|   y|   y|  5|\n",
      "|republican|  n|  y|  n|  y|  y|  y|  n|  n|  n|   n|   n|   y|   y|   y|   n|   y|  8|\n",
      "|  democrat|  y|  y|  y|  n|  n|  n|  y|  y|  y|   n|   y|   n|   n|   n|   y|   y| 19|\n",
      "|  democrat|  y|  y|  y|  n|  n|  n|  y|  y|  y|   n|   n|   n|   n|   n|   y|   y| 23|\n",
      "|  democrat|  y|  n|  y|  n|  n|  n|  y|  y|  y|   y|   n|   n|   n|   n|   y|   y| 25|\n",
      "|  democrat|  y|  n|  y|  n|  n|  n|  y|  y|  y|   n|   y|   n|   n|   n|   y|   y| 26|\n",
      "|  democrat|  y|  y|  y|  n|  n|  n|  y|  y|  y|   n|   y|   n|   n|   n|   y|   y| 27|\n",
      "|republican|  y|  n|  n|  y|  y|  n|  y|  y|  y|   n|   n|   y|   y|   y|   n|   y| 28|\n",
      "|  democrat|  y|  y|  y|  n|  n|  n|  y|  y|  y|   n|   y|   n|   n|   n|   y|   y| 29|\n",
      "|republican|  n|  y|  n|  y|  y|  y|  n|  n|  n|   n|   n|   y|   y|   y|   n|   n| 30|\n",
      "|  democrat|  y|  y|  y|  n|  n|  n|  y|  y|  y|   y|   n|   n|   y|   n|   y|   y| 32|\n",
      "|republican|  n|  y|  n|  y|  y|  y|  n|  n|  n|   n|   n|   y|   y|   y|   n|   y| 33|\n",
      "|  democrat|  y|  y|  y|  n|  n|  n|  y|  y|  y|   n|   n|   n|   n|   n|   y|   y| 34|\n",
      "|republican|  n|  y|  n|  y|  y|  y|  n|  n|  n|   n|   n|   y|   y|   y|   n|   n| 35|\n",
      "|republican|  y|  y|  n|  y|  y|  y|  n|  n|  n|   n|   n|   n|   y|   y|   n|   y| 37|\n",
      "|republican|  n|  y|  n|  y|  y|  y|  n|  n|  n|   y|   n|   y|   y|   y|   n|   n| 38|\n",
      "|  democrat|  y|  n|  y|  n|  n|  n|  y|  y|  y|   y|   y|   n|   y|   n|   y|   y| 39|\n",
      "|  democrat|  y|  n|  y|  n|  n|  n|  y|  y|  y|   n|   n|   n|   n|   n|   n|   y| 42|\n",
      "|  democrat|  y|  n|  y|  n|  n|  n|  y|  y|  y|   n|   n|   n|   n|   n|   y|   y| 43|\n",
      "|  democrat|  y|  y|  y|  n|  n|  n|  y|  y|  y|   n|   n|   n|   n|   n|   n|   y| 46|\n",
      "+----------+---+---+---+---+---+---+---+---+---+----+----+----+----+----+----+----+---+\n",
      "only showing top 20 rows\n",
      "\n"
     ]
    }
   ],
   "source": [
    "votes_cleaned.show()"
   ]
  },
  {
   "cell_type": "markdown",
   "metadata": {},
   "source": [
    "#### Records after removing records with missing values"
   ]
  },
  {
   "cell_type": "code",
   "execution_count": 15,
   "metadata": {},
   "outputs": [
    {
     "data": {
      "text/plain": [
       "232"
      ]
     },
     "execution_count": 15,
     "metadata": {},
     "output_type": "execute_result"
    }
   ],
   "source": [
    "votes_cleaned.count()"
   ]
  },
  {
   "cell_type": "markdown",
   "metadata": {},
   "source": [
    "#### How many records are lost?"
   ]
  },
  {
   "cell_type": "code",
   "execution_count": 16,
   "metadata": {},
   "outputs": [
    {
     "data": {
      "text/plain": [
       "203"
      ]
     },
     "execution_count": 16,
     "metadata": {},
     "output_type": "execute_result"
    }
   ],
   "source": [
    "votes.count() - votes_cleaned.count()"
   ]
  },
  {
   "cell_type": "markdown",
   "metadata": {},
   "source": [
    "#### What percentage of observations / records have missing values?"
   ]
  },
  {
   "cell_type": "code",
   "execution_count": 17,
   "metadata": {},
   "outputs": [
    {
     "name": "stdout",
     "output_type": "stream",
     "text": [
      "46.67%\n"
     ]
    }
   ],
   "source": [
    "print(\"{0:.2f}%\".format(100 - (votes_cleaned.count() * 100 / votes.count())))"
   ]
  },
  {
   "cell_type": "markdown",
   "metadata": {},
   "source": [
    "# K-means Clustering\n",
    "\n",
    "Performing K-means clustering on data to group voters based on thier voting pattern."
   ]
  },
  {
   "cell_type": "markdown",
   "metadata": {},
   "source": [
    "Import essential classes and functions"
   ]
  },
  {
   "cell_type": "code",
   "execution_count": 18,
   "metadata": {},
   "outputs": [],
   "source": [
    "from pyspark.ml.feature import VectorAssembler\n",
    "from pyspark.ml.feature import StringIndexer\n",
    "from pyspark.ml.clustering import KMeans\n",
    "from pyspark.ml import Pipeline"
   ]
  },
  {
   "cell_type": "markdown",
   "metadata": {},
   "source": [
    "Use string indexer to index the yea or nay votes to numbers"
   ]
  },
  {
   "cell_type": "code",
   "execution_count": 19,
   "metadata": {},
   "outputs": [],
   "source": [
    "indexers = [StringIndexer(inputCol=column, outputCol=column+'_idx').fit(votes_cleaned) for column in votes.columns[1:-1]]"
   ]
  },
  {
   "cell_type": "markdown",
   "metadata": {},
   "source": [
    "Use pipeline to process multiple string indexing operations at once"
   ]
  },
  {
   "cell_type": "code",
   "execution_count": 20,
   "metadata": {},
   "outputs": [],
   "source": [
    "pipeline = Pipeline(stages=indexers)\n",
    "votes_indexed = pipeline.fit(votes_cleaned).transform(votes_cleaned)"
   ]
  },
  {
   "cell_type": "markdown",
   "metadata": {},
   "source": [
    "Use vector assembler to assemble vectors of indexed features"
   ]
  },
  {
   "cell_type": "code",
   "execution_count": 21,
   "metadata": {},
   "outputs": [],
   "source": [
    "assembler = VectorAssembler(inputCols=['_c1_idx','_c2_idx','_c3_idx','_c4_idx','_c5_idx','_c6_idx','_c7_idx',\n",
    "                                       '_c8_idx','_c9_idx','_c10_idx','_c11_idx','_c12_idx','_c13_idx','_c14_idx',\n",
    "                                       '_c15_idx','_c16_idx'], outputCol='features')"
   ]
  },
  {
   "cell_type": "markdown",
   "metadata": {
    "collapsed": true
   },
   "source": [
    "Add assembled vector to dataframe"
   ]
  },
  {
   "cell_type": "code",
   "execution_count": 22,
   "metadata": {},
   "outputs": [],
   "source": [
    "votes_prep = assembler.transform(votes_indexed)"
   ]
  },
  {
   "cell_type": "markdown",
   "metadata": {},
   "source": [
    "### Estimating number of clusters\n",
    "\n",
    "##### Testing with Elbow Method"
   ]
  },
  {
   "cell_type": "code",
   "execution_count": 23,
   "metadata": {},
   "outputs": [],
   "source": [
    "costk = dict()\n",
    "# This is a placeholder value for k=1, since PySpark doesn't accept K=1 for KMeans\n",
    "costk[1] = 1000"
   ]
  },
  {
   "cell_type": "code",
   "execution_count": 24,
   "metadata": {},
   "outputs": [],
   "source": [
    "for i in range(2,8):\n",
    "    km = KMeans().setK(i)\n",
    "    mdl = km.fit(votes_prep)\n",
    "    costk[i] = mdl.computeCost(votes_prep)"
   ]
  },
  {
   "cell_type": "code",
   "execution_count": 25,
   "metadata": {},
   "outputs": [
    {
     "data": {
      "text/plain": [
       "{1: 1000,\n",
       " 2: 507.9103566376295,\n",
       " 3: 464.56861130714327,\n",
       " 4: 441.20693864597706,\n",
       " 5: 415.0658237316876,\n",
       " 6: 395.50653220752764,\n",
       " 7: 385.21539806317276}"
      ]
     },
     "execution_count": 25,
     "metadata": {},
     "output_type": "execute_result"
    }
   ],
   "source": [
    "costk"
   ]
  },
  {
   "cell_type": "markdown",
   "metadata": {},
   "source": [
    "### Plotting the cost as K increases"
   ]
  },
  {
   "cell_type": "code",
   "execution_count": 26,
   "metadata": {},
   "outputs": [
    {
     "data": {
      "text/plain": [
       "[<matplotlib.lines.Line2D at 0x7f3fecd6e710>]"
      ]
     },
     "execution_count": 26,
     "metadata": {},
     "output_type": "execute_result"
    },
    {
     "data": {
      "image/png": "[encoded data removed]",
      "text/plain": [
       "<matplotlib.figure.Figure at 0x7f3fece26320>"
      ]
     },
     "metadata": {},
     "output_type": "display_data"
    }
   ],
   "source": [
    "plt.plot(list(costk.keys()),list(costk.values()))"
   ]
  },
  {
   "cell_type": "markdown",
   "metadata": {},
   "source": [
    "### Predicting party label using clustering\n",
    "\n",
    "We set K = 2, since there are only two parties, and define the K-means model."
   ]
  },
  {
   "cell_type": "code",
   "execution_count": 27,
   "metadata": {},
   "outputs": [],
   "source": [
    "# Trains a k-means model.\n",
    "kmeans = KMeans(k=2,featuresCol='features').setSeed(51)\n",
    "model = kmeans.fit(votes_prep)"
   ]
  },
  {
   "cell_type": "markdown",
   "metadata": {},
   "source": [
    "Next, we transform the dataframe by applying the k-means model to it so prediction column will be added to the dataframe. Then collect the projection of selected attributes in dataframe to a variable called *transformed*."
   ]
  },
  {
   "cell_type": "code",
   "execution_count": 28,
   "metadata": {},
   "outputs": [],
   "source": [
    "transformedT = model.transform(votes_prep).select(\"_c0\",\"features\", \"prediction\",\"id\")"
   ]
  },
  {
   "cell_type": "markdown",
   "metadata": {},
   "source": [
    "Inspect the dataframe with the results, where **_c0_idx** is the index of original label and **predicion** is the predicted cluster."
   ]
  },
  {
   "cell_type": "code",
   "execution_count": 29,
   "metadata": {},
   "outputs": [
    {
     "name": "stdout",
     "output_type": "stream",
     "text": [
      "+----------+--------------------+----------+---+\n",
      "|       _c0|            features|prediction| id|\n",
      "+----------+--------------------+----------+---+\n",
      "|  democrat|(16,[1,6,7,9,14],...|         1|  5|\n",
      "|republican|(16,[1,2,3,6,7,9,...|         1|  8|\n",
      "|  democrat|[1.0,1.0,0.0,0.0,...|         0| 19|\n",
      "|  democrat|(16,[0,1,4,5,8,9,...|         0| 23|\n",
      "|  democrat|(16,[0,4,5,8,12,1...|         0| 25|\n",
      "|  democrat|(16,[0,4,5,8,9,10...|         0| 26|\n",
      "|  democrat|[1.0,1.0,0.0,0.0,...|         0| 27|\n",
      "|republican|(16,[0,2,3,5,8,9,...|         1| 28|\n",
      "|  democrat|[1.0,1.0,0.0,0.0,...|         0| 29|\n",
      "|republican|(16,[1,2,3,6,7,9,...|         1| 30|\n",
      "|  democrat|(16,[0,1,4,5,8,13...|         0| 32|\n",
      "|republican|(16,[1,2,3,6,7,9,...|         1| 33|\n",
      "|  democrat|(16,[0,1,4,5,8,9,...|         0| 34|\n",
      "|republican|(16,[1,2,3,6,7,9,...|         1| 35|\n",
      "|republican|(16,[0,1,2,3,6,7,...|         1| 37|\n",
      "|republican|(16,[1,2,3,6,7,11...|         1| 38|\n",
      "|  democrat|(16,[0,4,5,8,10,1...|         0| 39|\n",
      "|  democrat|(16,[0,4,5,8,9,12...|         0| 42|\n",
      "|  democrat|(16,[0,4,5,8,9,12...|         0| 43|\n",
      "|  democrat|(16,[0,1,4,5,8,9,...|         0| 46|\n",
      "+----------+--------------------+----------+---+\n",
      "only showing top 20 rows\n",
      "\n"
     ]
    }
   ],
   "source": [
    "transformedT.show()"
   ]
  },
  {
   "cell_type": "code",
   "execution_count": 30,
   "metadata": {},
   "outputs": [],
   "source": [
    "def indexParty(i):\n",
    "    return when(col(i) != 'democrat', 1).otherwise(0)"
   ]
  },
  {
   "cell_type": "code",
   "execution_count": 31,
   "metadata": {},
   "outputs": [],
   "source": [
    "transformed = reduce(lambda df, x: df.withColumn(x, indexParty(x)), transformedT.columns[0:1], transformedT)"
   ]
  },
  {
   "cell_type": "code",
   "execution_count": 32,
   "metadata": {
    "scrolled": true
   },
   "outputs": [
    {
     "name": "stdout",
     "output_type": "stream",
     "text": [
      "+---+--------------------+----------+---+\n",
      "|_c0|            features|prediction| id|\n",
      "+---+--------------------+----------+---+\n",
      "|  0|(16,[1,6,7,9,14],...|         1|  5|\n",
      "|  1|(16,[1,2,3,6,7,9,...|         1|  8|\n",
      "|  0|[1.0,1.0,0.0,0.0,...|         0| 19|\n",
      "|  0|(16,[0,1,4,5,8,9,...|         0| 23|\n",
      "|  0|(16,[0,4,5,8,12,1...|         0| 25|\n",
      "|  0|(16,[0,4,5,8,9,10...|         0| 26|\n",
      "|  0|[1.0,1.0,0.0,0.0,...|         0| 27|\n",
      "|  1|(16,[0,2,3,5,8,9,...|         1| 28|\n",
      "|  0|[1.0,1.0,0.0,0.0,...|         0| 29|\n",
      "|  1|(16,[1,2,3,6,7,9,...|         1| 30|\n",
      "|  0|(16,[0,1,4,5,8,13...|         0| 32|\n",
      "|  1|(16,[1,2,3,6,7,9,...|         1| 33|\n",
      "|  0|(16,[0,1,4,5,8,9,...|         0| 34|\n",
      "|  1|(16,[1,2,3,6,7,9,...|         1| 35|\n",
      "|  1|(16,[0,1,2,3,6,7,...|         1| 37|\n",
      "|  1|(16,[1,2,3,6,7,11...|         1| 38|\n",
      "|  0|(16,[0,4,5,8,10,1...|         0| 39|\n",
      "|  0|(16,[0,4,5,8,9,12...|         0| 42|\n",
      "|  0|(16,[0,4,5,8,9,12...|         0| 43|\n",
      "|  0|(16,[0,1,4,5,8,9,...|         0| 46|\n",
      "+---+--------------------+----------+---+\n",
      "only showing top 20 rows\n",
      "\n"
     ]
    }
   ],
   "source": [
    "transformed.show()"
   ]
  },
  {
   "cell_type": "markdown",
   "metadata": {},
   "source": [
    "### Evaluating classification performance\n",
    "Since PySpark does not provide a evaluator, we can use metrics functions from scikit learn, given we prepare our data in required input format. (BinaryClassEvaluator cannot be used here)"
   ]
  },
  {
   "cell_type": "markdown",
   "metadata": {},
   "source": [
    "**Some functions from scikit learn are required here.**\n",
    "### pip install scikit-learn"
   ]
  },
  {
   "cell_type": "code",
   "execution_count": 33,
   "metadata": {},
   "outputs": [],
   "source": [
    "from sklearn.metrics import roc_curve, auc"
   ]
  },
  {
   "cell_type": "markdown",
   "metadata": {},
   "source": [
    "Convert the pyspark dataframe column in Python list, since it is the accepted input object for scikit learn functions"
   ]
  },
  {
   "cell_type": "code",
   "execution_count": 34,
   "metadata": {},
   "outputs": [],
   "source": [
    "y_label = [int(i['_c0']) for i in transformed.collect()]\n",
    "y_pred = [int(i['prediction']) for i in transformed.collect()]"
   ]
  },
  {
   "cell_type": "markdown",
   "metadata": {},
   "source": [
    "Prepare dictionaries for SciKit roc function, as required."
   ]
  },
  {
   "cell_type": "code",
   "execution_count": 35,
   "metadata": {},
   "outputs": [],
   "source": [
    "fpr = dict()\n",
    "tpr = dict()\n",
    "roc_auc = dict()\n",
    "fpr[0], tpr[0], _ = roc_curve(y_pred, y_label)\n",
    "roc_auc[0] = auc(fpr[0], tpr[0])"
   ]
  },
  {
   "cell_type": "markdown",
   "metadata": {},
   "source": [
    "Prepare the plot for ROC curve"
   ]
  },
  {
   "cell_type": "code",
   "execution_count": 36,
   "metadata": {},
   "outputs": [
    {
     "data": {
      "image/png": "[encoded data removed]",
      "text/plain": [
       "<matplotlib.figure.Figure at 0x7f3fb76c4898>"
      ]
     },
     "metadata": {},
     "output_type": "display_data"
    }
   ],
   "source": [
    "plt.figure()\n",
    "lw = 2\n",
    "plt.plot(fpr[0], tpr[0], color='darkorange',\n",
    "         lw=lw, label='ROC curve (area = %0.2f)' % roc_auc[0])\n",
    "plt.plot([0, 1], [0, 1], color='navy', lw=lw, linestyle='--')\n",
    "plt.xlim([0.0, 1.0])\n",
    "plt.ylim([0.0, 1.0])\n",
    "plt.xlabel('False Positive Rate')\n",
    "plt.ylabel('True Positive Rate')\n",
    "plt.title('Receiver Operating Characteristic Curve')\n",
    "plt.legend(loc=\"lower right\")\n",
    "plt.show()"
   ]
  },
  {
   "cell_type": "markdown",
   "metadata": {},
   "source": [
    "#### Evaluate clustering by computing Within Set Sum of Squared Errors.\n"
   ]
  },
  {
   "cell_type": "code",
   "execution_count": 37,
   "metadata": {},
   "outputs": [
    {
     "name": "stdout",
     "output_type": "stream",
     "text": [
      "Within Set Sum of Squared Errors = 507.9409263817414\n"
     ]
    }
   ],
   "source": [
    "wssse = model.computeCost(transformed)\n",
    "print(\"Within Set Sum of Squared Errors = \" + str(wssse))"
   ]
  },
  {
   "cell_type": "markdown",
   "metadata": {},
   "source": [
    "#### Inspect the centroids"
   ]
  },
  {
   "cell_type": "code",
   "execution_count": 38,
   "metadata": {},
   "outputs": [
    {
     "name": "stdout",
     "output_type": "stream",
     "text": [
      "Cluster Centers: \n",
      "[ 0.63302752  0.42201835  0.09174312  0.04587156  0.94495413  0.67889908\n",
      "  0.12844037  0.02752294  0.90825688  0.43119266  0.44954128  0.03669725\n",
      "  0.80733945  0.73394495  0.66055046  0.00917431]\n",
      "[ 0.2195122   0.49593496  0.80487805  0.87804878  0.00813008  0.07317073\n",
      "  0.76422764  0.89430894  0.11382114  0.46341463  0.25203252  0.84552846\n",
      "  0.13821138  0.02439024  0.11382114  0.34146341]\n"
     ]
    }
   ],
   "source": [
    "centers = model.clusterCenters()\n",
    "print(\"Cluster Centers: \")\n",
    "for center in centers:\n",
    "    print(center)"
   ]
  },
  {
   "cell_type": "markdown",
   "metadata": {
    "collapsed": true
   },
   "source": [
    "#### How to visualize clusters?\n",
    "Issues:\n",
    "1. The features are binary.\n",
    "2. Dataset has high dimentionality.\n",
    "\n",
    "Solutions:\n",
    "1. Prepare Scatter plot matrix of votes on liberal vs conservative issues.\n",
    "<br/>or\n",
    "2. Reduce diamentions to two, possibly the diamentions which reflect liberal and conservative votes."
   ]
  },
  {
   "cell_type": "markdown",
   "metadata": {},
   "source": [
    "## Principle Component Analysis"
   ]
  },
  {
   "cell_type": "markdown",
   "metadata": {},
   "source": [
    "Import PCA"
   ]
  },
  {
   "cell_type": "code",
   "execution_count": 39,
   "metadata": {},
   "outputs": [],
   "source": [
    "from pyspark.ml.feature import PCA"
   ]
  },
  {
   "cell_type": "markdown",
   "metadata": {},
   "source": [
    "Define PCA Model, for 2 principal components"
   ]
  },
  {
   "cell_type": "code",
   "execution_count": 40,
   "metadata": {},
   "outputs": [],
   "source": [
    "pca = PCA(k=2, inputCol=\"features\", outputCol=\"pcaFeatures\")"
   ]
  },
  {
   "cell_type": "markdown",
   "metadata": {},
   "source": [
    "Transform the dataframe using PCA model to get PCA features"
   ]
  },
  {
   "cell_type": "code",
   "execution_count": 41,
   "metadata": {},
   "outputs": [],
   "source": [
    "pca_model = pca.fit(transformed)"
   ]
  },
  {
   "cell_type": "markdown",
   "metadata": {},
   "source": [
    "Seperate dataframes based on party of a voter"
   ]
  },
  {
   "cell_type": "code",
   "execution_count": 42,
   "metadata": {},
   "outputs": [],
   "source": [
    "pca_result = pca_model.transform(transformed).select('pcaFeatures','_c0','prediction').toPandas()"
   ]
  },
  {
   "cell_type": "code",
   "execution_count": 43,
   "metadata": {},
   "outputs": [],
   "source": [
    "pca_result_D_label = pca_result.loc[pca_result['_c0'] ==  0]\n",
    "pca_result_R_label = pca_result.loc[pca_result['_c0'] ==  1]"
   ]
  },
  {
   "cell_type": "code",
   "execution_count": 44,
   "metadata": {},
   "outputs": [],
   "source": [
    "pcasR_label = pca_result_R_label['pcaFeatures'].tolist()\n",
    "pcasD_label = pca_result_D_label['pcaFeatures'].tolist()"
   ]
  },
  {
   "cell_type": "markdown",
   "metadata": {},
   "source": [
    "### Prepare Plot for Actual Party Label"
   ]
  },
  {
   "cell_type": "code",
   "execution_count": 45,
   "metadata": {},
   "outputs": [],
   "source": [
    "xlD, ylD = zip(*pcasD_label)\n",
    "xlR, ylR = zip(*pcasR_label)"
   ]
  },
  {
   "cell_type": "code",
   "execution_count": 46,
   "metadata": {
    "scrolled": true
   },
   "outputs": [
    {
     "data": {
      "text/plain": [
       "<matplotlib.figure.Figure at 0x7f3fb2d53748>"
      ]
     },
     "metadata": {},
     "output_type": "display_data"
    }
   ],
   "source": [
    "scat_fig = plt.figure(0,figsize=(16, 12))"
   ]
  },
  {
   "cell_type": "code",
   "execution_count": 47,
   "metadata": {},
   "outputs": [
    {
     "data": {
      "text/plain": [
       "<matplotlib.legend.Legend at 0x7f3fb2d73e80>"
      ]
     },
     "execution_count": 47,
     "metadata": {},
     "output_type": "execute_result"
    }
   ],
   "source": [
    "ax1 = scat_fig.add_subplot(221)\n",
    "ax1.set_title(\"Actual Party Labels\")\n",
    "ax1.scatter(xlD,ylD,color=['blue'], label='Democrat')\n",
    "ax1.scatter(xlR,ylR,color=['red'], label='Republican')\n",
    "ax1.set_xlabel(\"PCA-1\")\n",
    "ax1.set_ylabel(\"PCA-2\")\n",
    "ax1.legend(loc='upper left')"
   ]
  },
  {
   "cell_type": "markdown",
   "metadata": {
    "collapsed": true
   },
   "source": [
    "### Prepare Plot for K-Means"
   ]
  },
  {
   "cell_type": "markdown",
   "metadata": {},
   "source": [
    "Separate dataframes based on K-Means clustering"
   ]
  },
  {
   "cell_type": "code",
   "execution_count": 48,
   "metadata": {},
   "outputs": [
    {
     "data": {
      "text/plain": [
       "pcaFeatures    109\n",
       "_c0            109\n",
       "prediction     109\n",
       "dtype: int64"
      ]
     },
     "execution_count": 48,
     "metadata": {},
     "output_type": "execute_result"
    }
   ],
   "source": [
    "pca_pred_D_pred = pca_result.loc[pca_result['prediction'] ==  0]\n",
    "pca_pred_R_pred = pca_result.loc[pca_result['prediction'] ==  1]\n",
    "pca_pred_D_pred.count()"
   ]
  },
  {
   "cell_type": "code",
   "execution_count": 49,
   "metadata": {},
   "outputs": [],
   "source": [
    "pcasR_pred = pca_pred_R_pred['pcaFeatures'].tolist()\n",
    "pcasD_pred = pca_pred_D_pred['pcaFeatures'].tolist()"
   ]
  },
  {
   "cell_type": "code",
   "execution_count": 50,
   "metadata": {},
   "outputs": [],
   "source": [
    "xpD, ypD = zip(*pcasD_pred)\n",
    "xpR, ypR = zip(*pcasR_pred)"
   ]
  },
  {
   "cell_type": "code",
   "execution_count": 51,
   "metadata": {},
   "outputs": [
    {
     "data": {
      "text/plain": [
       "<matplotlib.legend.Legend at 0x7f3fb2d0e198>"
      ]
     },
     "execution_count": 51,
     "metadata": {},
     "output_type": "execute_result"
    }
   ],
   "source": [
    "ax2 = scat_fig.add_subplot(222)\n",
    "ax2.set_title(\"K-Means Clusters\")\n",
    "ax2.scatter(xpD,ypD,color=['blue'], label='Liberal')\n",
    "ax2.scatter(xpR,ypR,color=['red'], label='Conservative')\n",
    "ax2.set_xlabel(\"PCA-1\")\n",
    "ax2.set_ylabel(\"PCA-2\")\n",
    "ax2.legend(loc='upper left')"
   ]
  },
  {
   "cell_type": "markdown",
   "metadata": {},
   "source": [
    "#### Display Scatter Plots"
   ]
  },
  {
   "cell_type": "code",
   "execution_count": 52,
   "metadata": {},
   "outputs": [
    {
     "data": {
      "image/png": "[encoded data removed]",
      "text/plain": [
       "<matplotlib.figure.Figure at 0x7f3fb2d53748>"
      ]
     },
     "execution_count": 52,
     "metadata": {},
     "output_type": "execute_result"
    }
   ],
   "source": [
    "scat_fig"
   ]
  },
  {
   "cell_type": "markdown",
   "metadata": {},
   "source": [
    "## Conclustion\n",
    "Though K-Means can be used to predict the party of a voter with ~90% accuracy, The method is not perfect. K-Means is able to identify clusters on the bassis on political spectrum. (i.e. Conservative or Liberal). Not on the party basis.\n",
    "\n",
    "Since we have the labels of party for each voter, we can tell which republicans are more moderate or liberal and which democrats are conservative based on thier voting patterns."
   ]
  },
  {
   "cell_type": "markdown",
   "metadata": {},
   "source": [
    "## Capturing a wider political spectrum\n",
    "Clustering with 3 clusters, with intent being grouping moderate voters as a cluster."
   ]
  },
  {
   "cell_type": "code",
   "execution_count": 53,
   "metadata": {},
   "outputs": [],
   "source": [
    "# Trains a k-means model.\n",
    "k3means = KMeans(k=3,featuresCol='features').setSeed(51)\n",
    "model3 = k3means.fit(votes_prep)"
   ]
  },
  {
   "cell_type": "code",
   "execution_count": 54,
   "metadata": {},
   "outputs": [],
   "source": [
    "transformedT3 = model3.transform(votes_prep).select(\"_c0\",\"features\", \"prediction\",\"id\")"
   ]
  },
  {
   "cell_type": "code",
   "execution_count": 55,
   "metadata": {},
   "outputs": [],
   "source": [
    "# PCA to reduce dimentions to two, in order to visualize\n",
    "pca2 = PCA(k=2, inputCol=\"features\", outputCol=\"pcaFeatures\")"
   ]
  },
  {
   "cell_type": "code",
   "execution_count": 56,
   "metadata": {},
   "outputs": [],
   "source": [
    "pca_model2 = pca2.fit(transformedT3)"
   ]
  },
  {
   "cell_type": "code",
   "execution_count": 57,
   "metadata": {},
   "outputs": [],
   "source": [
    "pca_result2 = pca_model2.transform(transformedT3).select('pcaFeatures','_c0','prediction').toPandas()"
   ]
  },
  {
   "cell_type": "markdown",
   "metadata": {},
   "source": [
    "Preparing lists of co-ordinates for scatter plot"
   ]
  },
  {
   "cell_type": "code",
   "execution_count": 58,
   "metadata": {},
   "outputs": [],
   "source": [
    "pca_pred_1_pred = pca_result2.loc[pca_result2['prediction'] ==  0]\n",
    "pca_pred_2_pred = pca_result2.loc[pca_result2['prediction'] ==  1]\n",
    "pca_pred_3_pred = pca_result2.loc[pca_result2['prediction'] ==  2]"
   ]
  },
  {
   "cell_type": "code",
   "execution_count": 59,
   "metadata": {},
   "outputs": [],
   "source": [
    "pcas1_pred = pca_pred_1_pred['pcaFeatures'].tolist()\n",
    "pcas2_pred = pca_pred_2_pred['pcaFeatures'].tolist()\n",
    "pcas3_pred = pca_pred_3_pred['pcaFeatures'].tolist()"
   ]
  },
  {
   "cell_type": "code",
   "execution_count": 60,
   "metadata": {},
   "outputs": [],
   "source": [
    "xl1, yl1 = zip(*pcas1_pred)\n",
    "xl2, yl2 = zip(*pcas2_pred)\n",
    "xl3, yl3 = zip(*pcas3_pred)"
   ]
  },
  {
   "cell_type": "markdown",
   "metadata": {},
   "source": [
    "Building the scatter plot"
   ]
  },
  {
   "cell_type": "code",
   "execution_count": 61,
   "metadata": {},
   "outputs": [
    {
     "data": {
      "text/plain": [
       "<matplotlib.legend.Legend at 0x7f3fb28f09e8>"
      ]
     },
     "execution_count": 61,
     "metadata": {},
     "output_type": "execute_result"
    },
    {
     "data": {
      "image/png": "[encoded data removed]",
      "text/plain": [
       "<matplotlib.figure.Figure at 0x7f3fb28c29b0>"
      ]
     },
     "metadata": {},
     "output_type": "display_data"
    }
   ],
   "source": [
    "scat_fig2 = plt.figure(0,figsize=(12, 10))\n",
    "axs3 = scat_fig2.add_subplot(111)\n",
    "axs3.set_title(\"K-Means 3 Clusters\")\n",
    "axs3.scatter(xl1,yl1,color=[\"red\"], label='Conservative')\n",
    "axs3.scatter(xl2,yl2,color=[\"purple\"], label='Moderate')\n",
    "axs3.scatter(xl3,yl3,color=[\"blue\"], label='Liberal')\n",
    "axs3.set_xlabel(\"PCA-1\")\n",
    "axs3.set_ylabel(\"PCA-2\")\n",
    "axs3.legend(loc='upper left')"
   ]
  },
  {
   "cell_type": "code",
   "execution_count": null,
   "metadata": {},
   "outputs": [],
   "source": []
  }
 ],
 "metadata": {
  "kernelspec": {
   "display_name": "Python 3",
   "language": "python",
   "name": "python3"
  },
  "language_info": {
   "codemirror_mode": {
    "name": "ipython",
    "version": 3
   },
   "file_extension": ".py",
   "mimetype": "text/x-python",
   "name": "python",
   "nbconvert_exporter": "python",
   "pygments_lexer": "ipython3",
   "version": "3.6.4"
  }
 },
 "nbformat": 4,
 "nbformat_minor": 2
}
